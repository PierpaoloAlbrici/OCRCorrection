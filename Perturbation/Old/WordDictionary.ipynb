{
 "cells": [
  {
   "cell_type": "code",
   "execution_count": 1,
   "metadata": {},
   "outputs": [],
   "source": [
    "import pymongo\n",
    "import string\n",
    "from tqdm.notebook import tqdm\n",
    "from collections import Counter \n",
    "\n",
    "client = pymongo.MongoClient('mongodb://localhost:27017')\n",
    "db = client['vatican']\n",
    "dataset = db['perturbedDataset']\n",
    "wordsDataset = db['wordsDataset']\n",
    "\n",
    "docs = list(dataset.find())"
   ]
  },
  {
   "cell_type": "code",
   "execution_count": 2,
   "metadata": {},
   "outputs": [
    {
     "name": "stderr",
     "output_type": "stream",
     "text": [
      "<ipython-input-2-ab340a24988d>:2: DeprecationWarning: count is deprecated. Use estimated_document_count or count_documents instead. Please note that $where must be replaced by $expr, $near must be replaced by $geoWithin with $center, and $nearSphere must be replaced by $geoWithin with $centerSphere\n",
      "  wordsDataset.count()\n"
     ]
    },
    {
     "data": {
      "text/plain": [
       "0"
      ]
     },
     "execution_count": 2,
     "metadata": {},
     "output_type": "execute_result"
    }
   ],
   "source": [
    "#wordsDataset.drop()\n",
    "wordsDataset.count()"
   ]
  },
  {
   "cell_type": "code",
   "execution_count": 3,
   "metadata": {},
   "outputs": [],
   "source": [
    "chars = \"solenità'd\\mczkwfhjuxgbvrpyq8192!#\"\n",
    "CHAR_INDEX = dict((c, i) for i, c in enumerate(chars))\n",
    "\n",
    "def preprocess(s):\n",
    "    out = \"\"\n",
    "    for c in s.lower():\n",
    "        if c in CHAR_INDEX.keys():\n",
    "            out += c\n",
    "        else:\n",
    "            out += '#'\n",
    "    return \"\".join(out)"
   ]
  },
  {
   "cell_type": "code",
   "execution_count": 4,
   "metadata": {},
   "outputs": [
    {
     "data": {
      "application/vnd.jupyter.widget-view+json": {
       "model_id": "d313da7791f5428484821abcc3ddfe70",
       "version_major": 2,
       "version_minor": 0
      },
      "text/plain": [
       "HBox(children=(FloatProgress(value=1.0, bar_style='info', max=1.0), HTML(value='')))"
      ]
     },
     "metadata": {},
     "output_type": "display_data"
    },
    {
     "name": "stdout",
     "output_type": "stream",
     "text": [
      "\n"
     ]
    },
    {
     "data": {
      "application/vnd.jupyter.widget-view+json": {
       "model_id": "b9ef06a9de69439d92658a08d470dedd",
       "version_major": 2,
       "version_minor": 0
      },
      "text/plain": [
       "HBox(children=(FloatProgress(value=0.0, max=14564.0), HTML(value='')))"
      ]
     },
     "metadata": {},
     "output_type": "display_data"
    },
    {
     "name": "stdout",
     "output_type": "stream",
     "text": [
      "\n"
     ]
    },
    {
     "data": {
      "text/plain": [
       "{'_id': ObjectId('60eabb6a6efb0ca2764b2913'),\n",
       " 'word': 'solennità',\n",
       " 'occurrences': {'solennità': 41, \"solennita'̀\": 2}}"
      ]
     },
     "execution_count": 4,
     "metadata": {},
     "output_type": "execute_result"
    }
   ],
   "source": [
    "word = dict()\n",
    "\n",
    "for i, d in tqdm(enumerate(docs)):\n",
    "    for j, s in enumerate(d['sentences']):\n",
    "        for k, w in enumerate(s[0]):\n",
    "            word.setdefault(s[1][k], []).append(preprocess(w))            \n",
    "            \n",
    "for wk in tqdm(word.keys()):\n",
    "    item = dict(Counter(word.get(wk)))\n",
    "    wordsDataset.insert_one({'word': preprocess(wk), 'occurrences': item})\n",
    "    \n",
    "wordsDataset.find_one()"
   ]
  },
  {
   "cell_type": "code",
   "execution_count": 5,
   "metadata": {},
   "outputs": [
    {
     "name": "stdout",
     "output_type": "stream",
     "text": [
      "{'_id': ObjectId('60eabb6b6efb0ca2764b2a89'), 'word': 'ha', 'occurrences': {'ha': 199, 'hta': 1, 'a': 1, 'hp': 1, 'hb': 1, 'hk': 1}}\n"
     ]
    }
   ],
   "source": [
    "for i in wordsDataset.find({'word': 'ha'}):\n",
    "    print(i)"
   ]
  },
  {
   "cell_type": "code",
   "execution_count": 7,
   "metadata": {},
   "outputs": [
    {
     "name": "stdout",
     "output_type": "stream",
     "text": [
      "{'_id': ObjectId('60eabb6b6efb0ca2764b2a89'), 'word': 'ha', 'occurrences': {'ha': 199, 'hta': 1, 'a': 1, 'hp': 1, 'hb': 1, 'hk': 1}}\n"
     ]
    }
   ],
   "source": [
    "a = list(wordsDataset.find())\n",
    "for i in a:\n",
    "    if(i['word'] == 'ha'):\n",
    "        print(i)"
   ]
  },
  {
   "cell_type": "code",
   "execution_count": null,
   "metadata": {},
   "outputs": [],
   "source": []
  }
 ],
 "metadata": {
  "kernelspec": {
   "display_name": "Python 3",
   "language": "python",
   "name": "python3"
  },
  "language_info": {
   "codemirror_mode": {
    "name": "ipython",
    "version": 3
   },
   "file_extension": ".py",
   "mimetype": "text/x-python",
   "name": "python",
   "nbconvert_exporter": "python",
   "pygments_lexer": "ipython3",
   "version": "3.8.3"
  }
 },
 "nbformat": 4,
 "nbformat_minor": 4
}
